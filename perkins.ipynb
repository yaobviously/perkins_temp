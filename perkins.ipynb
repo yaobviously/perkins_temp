{
  "nbformat": 4,
  "nbformat_minor": 0,
  "metadata": {
    "colab": {
      "name": "perkins.ipynb",
      "provenance": [],
      "mount_file_id": "1_QJ13QQxNaNbQQvIaFWLy20jvrs4MgWM",
      "authorship_tag": "ABX9TyMuEp7AGHz0ncmfcH8YCaHQ",
      "include_colab_link": true
    },
    "kernelspec": {
      "name": "python3",
      "display_name": "Python 3"
    },
    "language_info": {
      "name": "python"
    }
  },
  "cells": [
    {
      "cell_type": "markdown",
      "metadata": {
        "id": "view-in-github",
        "colab_type": "text"
      },
      "source": [
        "<a href=\"https://colab.research.google.com/github/yaobviously/perkins_temp/blob/main/perkins.ipynb\" target=\"_parent\"><img src=\"https://colab.research.google.com/assets/colab-badge.svg\" alt=\"Open In Colab\"/></a>"
      ]
    },
    {
      "cell_type": "code",
      "metadata": {
        "id": "yXsjTbsgPwta"
      },
      "source": [
        "import pandas as pd\n",
        "import numpy as np\n",
        "import matplotlib.pyplot as plt\n",
        "import seaborn as sns"
      ],
      "execution_count": 94,
      "outputs": []
    },
    {
      "cell_type": "code",
      "metadata": {
        "id": "dll-fa2CP0cO"
      },
      "source": [
        "pop_csv = '/content/drive/MyDrive/Temperature_Perkins/Population Data.csv'\n",
        "temp_csv = '/content/drive/MyDrive/Temperature_Perkins/Temperature Data.csv'"
      ],
      "execution_count": 95,
      "outputs": []
    },
    {
      "cell_type": "code",
      "metadata": {
        "id": "dMwBV_2BP2uy"
      },
      "source": [
        "def load_transform_data():\n",
        "  \"\"\"\n",
        "  Preparing the temperature and population datasets for visualization and \n",
        "  analysis\n",
        "  \"\"\"\n",
        "\n",
        "  temp_df = pd.read_csv(temp_csv, parse_dates=['location_date'])\n",
        "\n",
        "  pop_df = pd.read_csv(pop_csv)\n",
        "\n",
        "  # case normalizing pop columns\n",
        "  pop_df.columns = pop_df.columns.str.lower()\n",
        "\n",
        "  # dropping redundant columns\n",
        "  col_drop = ['country_name', 'country_code', 'continent']\n",
        "  temp_df = temp_df.drop(col_drop, axis=1)\n",
        "\n",
        "  # renaming columns\n",
        "  temp_df = temp_df.rename(columns={'temp_mean_c': 'mean_temp',\n",
        "                                    'temp_min_c' : 'min_temp',\n",
        "                                    'temp_max_c' : 'max_temp'})\n",
        "\n",
        "  # making it easier to merge later\n",
        "  temp_df['name'] = [x.split('/')[0] for x in temp_df['name']]\n",
        "  temp_df = temp_df.rename(columns={'name':'city'})\n",
        "\n",
        "  # creating a city dictionary to find matching city pops. i'm replacing \n",
        "  # Albany with Syracuse because it seems closest in terms of pop (for weighting),\n",
        "  # comparable in terms of long/lat, and i'm restricted to this dataset\n",
        "\n",
        "  city_dict = {'St Louis' : 'St. Louis', 'NYC' : 'New York', \"Chicago O'Hare\" : 'Chicago',\n",
        "               'Covington': 'Cincinnati', 'Wash DC' : 'Washington', 'Windsor Locks' : 'Hartford',\n",
        "               'Albany' : 'Syracuse'\n",
        "               }\n",
        "  temp_df['city'] = temp_df['city'].map(city_dict).fillna(temp_df['city'])\n",
        "\n",
        "  # merging the dataframes and fixing the Albany hack above\n",
        "\n",
        "  merged_df = pd.merge(temp_df, pop_df, how='left', on='city')\n",
        "  merged_df = merged_df.set_index('location_date').sort_index()\n",
        "  \n",
        "  merged_df['city'] = merged_df['city'].replace('Syracuse', 'Albany')\n",
        "\n",
        "  # creating a function to find the dates with missing values for each\n",
        "  # station and then appending all of those dates to the main dataframe\n",
        "\n",
        "  days = merged_df.index.unique()\n",
        "\n",
        "  def find_miss_days(station_code = 'KLIT'):\n",
        "\n",
        "    df_ = merged_df[merged_df['station_code'] == station_code]\n",
        "\n",
        "    indexes = set(df_.index)\n",
        "    dates_missing = set(days).difference(indexes)\n",
        "\n",
        "    val_dict = {'city' : df_['city'][0],\n",
        "                'station_code' : station_code,\n",
        "                'state' : df_['state'][0]\n",
        "                }\n",
        "\n",
        "    new_df = pd.DataFrame(val_dict, index=tuple(dates_missing))\n",
        "\n",
        "    return new_df\n",
        "\n",
        "  df_append = [find_miss_days(code) for code in merged_df.station_code.unique()]\n",
        "  df_concat = pd.concat(df_append)\n",
        "\n",
        "  df = merged_df.append(df_concat)\n",
        "  \n",
        "  # extracting month/year from index to compute monthly expanding averages for each \n",
        "  # location\n",
        "  df['month'] = pd.DatetimeIndex(df.index).month\n",
        "  df['year'] = pd.DatetimeIndex(df.index).year\n",
        "  df['avg_daily_mean_month'] = (df\n",
        "                               .groupby(['city', 'month'])['mean_temp']\n",
        "                               .transform(lambda x: x.expanding().mean()\n",
        "                                ))\n",
        "  \n",
        "  df['avg_daily_max_month'] = (df\n",
        "                              .groupby(['city', 'month'])['max_temp']\n",
        "                              .transform(lambda x: x.expanding().mean()\n",
        "                              ))\n",
        "  \n",
        "  df['avg_daily_min_month'] = (df\n",
        "                              .groupby(['city', 'month'])['min_temp']\n",
        "                              .transform(lambda x: x.expanding().mean()\n",
        "                                 ))\n",
        "  \n",
        "  df['this_month_high_for_loc'] = (df\n",
        "                                  .groupby(['city', 'year', 'month'])['max_temp']\n",
        "                                  .transform(lambda x: x.expanding().max()))\n",
        "  df['this_month_low_for_loc'] = (df\n",
        "                                  .groupby(['city', 'year', 'month'])['min_temp']\n",
        "                                  .transform(lambda x: x.expanding().min()))\n",
        "  \n",
        "  df = df.sort_index()\n",
        "  \n",
        "  # filling in missing values - more advanced options are possible\n",
        "  df = df.set_index('city', append=True)\n",
        "  \n",
        "  df = df.groupby(level=1).ffill()\n",
        "  df = df.reset_index(level=1)  \n",
        "  \n",
        "  df = df.round(2)  \n",
        "  return df\n"
      ],
      "execution_count": 98,
      "outputs": []
    },
    {
      "cell_type": "code",
      "metadata": {
        "id": "0yUvEfmBdjWG",
        "colab": {
          "base_uri": "https://localhost:8080/"
        },
        "outputId": "616198ed-17be-45f7-e035-7aa594853007"
      },
      "source": [
        "df = load_transform_data()\n",
        "\n",
        "print(\"The shape of the new dataframe is:\", df.shape)"
      ],
      "execution_count": 99,
      "outputs": [
        {
          "output_type": "stream",
          "text": [
            "The shape of the new dataframe is: (94353, 16)\n"
          ],
          "name": "stdout"
        }
      ]
    },
    {
      "cell_type": "code",
      "metadata": {
        "id": "WoEdwwL7Vw-s"
      },
      "source": [
        "def monthly_details(city='Sacramento'):\n",
        "  \n",
        "  \n",
        "  df_ = df[df['city'] == city]\n",
        "  return sns.lineplot(y = 'avg_daily_mean_month')"
      ],
      "execution_count": 103,
      "outputs": []
    },
    {
      "cell_type": "code",
      "metadata": {
        "id": "o32-TtTFYJuu",
        "outputId": "bf690a28-bb91-444b-b1f5-2b72b15b51cc",
        "colab": {
          "base_uri": "https://localhost:8080/",
          "height": 303
        }
      },
      "source": [
        ""
      ],
      "execution_count": 104,
      "outputs": [
        {
          "output_type": "error",
          "ename": "ValueError",
          "evalue": "ignored",
          "traceback": [
            "\u001b[0;31m---------------------------------------------------------------------------\u001b[0m",
            "\u001b[0;31mValueError\u001b[0m                                Traceback (most recent call last)",
            "\u001b[0;32m<ipython-input-104-bdf0e1aa47b0>\u001b[0m in \u001b[0;36m<module>\u001b[0;34m()\u001b[0m\n\u001b[0;32m----> 1\u001b[0;31m \u001b[0mmonthly_details\u001b[0m\u001b[0;34m(\u001b[0m\u001b[0;34m)\u001b[0m\u001b[0;34m\u001b[0m\u001b[0;34m\u001b[0m\u001b[0m\n\u001b[0m",
            "\u001b[0;32m<ipython-input-103-505253563eef>\u001b[0m in \u001b[0;36mmonthly_details\u001b[0;34m(city)\u001b[0m\n\u001b[1;32m      3\u001b[0m \u001b[0;34m\u001b[0m\u001b[0m\n\u001b[1;32m      4\u001b[0m   \u001b[0mdf_\u001b[0m \u001b[0;34m=\u001b[0m \u001b[0mdf\u001b[0m\u001b[0;34m[\u001b[0m\u001b[0mdf\u001b[0m\u001b[0;34m[\u001b[0m\u001b[0;34m'city'\u001b[0m\u001b[0;34m]\u001b[0m \u001b[0;34m==\u001b[0m \u001b[0mcity\u001b[0m\u001b[0;34m]\u001b[0m\u001b[0;34m\u001b[0m\u001b[0;34m\u001b[0m\u001b[0m\n\u001b[0;32m----> 5\u001b[0;31m   \u001b[0;32mreturn\u001b[0m \u001b[0msns\u001b[0m\u001b[0;34m.\u001b[0m\u001b[0mlineplot\u001b[0m\u001b[0;34m(\u001b[0m\u001b[0my\u001b[0m \u001b[0;34m=\u001b[0m \u001b[0;34m'avg_daily_mean_month'\u001b[0m\u001b[0;34m)\u001b[0m\u001b[0;34m\u001b[0m\u001b[0;34m\u001b[0m\u001b[0m\n\u001b[0m",
            "\u001b[0;32m/usr/local/lib/python3.7/dist-packages/seaborn/_decorators.py\u001b[0m in \u001b[0;36minner_f\u001b[0;34m(*args, **kwargs)\u001b[0m\n\u001b[1;32m     44\u001b[0m             )\n\u001b[1;32m     45\u001b[0m         \u001b[0mkwargs\u001b[0m\u001b[0;34m.\u001b[0m\u001b[0mupdate\u001b[0m\u001b[0;34m(\u001b[0m\u001b[0;34m{\u001b[0m\u001b[0mk\u001b[0m\u001b[0;34m:\u001b[0m \u001b[0marg\u001b[0m \u001b[0;32mfor\u001b[0m \u001b[0mk\u001b[0m\u001b[0;34m,\u001b[0m \u001b[0marg\u001b[0m \u001b[0;32min\u001b[0m \u001b[0mzip\u001b[0m\u001b[0;34m(\u001b[0m\u001b[0msig\u001b[0m\u001b[0;34m.\u001b[0m\u001b[0mparameters\u001b[0m\u001b[0;34m,\u001b[0m \u001b[0margs\u001b[0m\u001b[0;34m)\u001b[0m\u001b[0;34m}\u001b[0m\u001b[0;34m)\u001b[0m\u001b[0;34m\u001b[0m\u001b[0;34m\u001b[0m\u001b[0m\n\u001b[0;32m---> 46\u001b[0;31m         \u001b[0;32mreturn\u001b[0m \u001b[0mf\u001b[0m\u001b[0;34m(\u001b[0m\u001b[0;34m**\u001b[0m\u001b[0mkwargs\u001b[0m\u001b[0;34m)\u001b[0m\u001b[0;34m\u001b[0m\u001b[0;34m\u001b[0m\u001b[0m\n\u001b[0m\u001b[1;32m     47\u001b[0m     \u001b[0;32mreturn\u001b[0m \u001b[0minner_f\u001b[0m\u001b[0;34m\u001b[0m\u001b[0;34m\u001b[0m\u001b[0m\n\u001b[1;32m     48\u001b[0m \u001b[0;34m\u001b[0m\u001b[0m\n",
            "\u001b[0;32m/usr/local/lib/python3.7/dist-packages/seaborn/relational.py\u001b[0m in \u001b[0;36mlineplot\u001b[0;34m(x, y, hue, size, style, data, palette, hue_order, hue_norm, sizes, size_order, size_norm, dashes, markers, style_order, units, estimator, ci, n_boot, seed, sort, err_style, err_kws, legend, ax, **kwargs)\u001b[0m\n\u001b[1;32m    686\u001b[0m         \u001b[0mdata\u001b[0m\u001b[0;34m=\u001b[0m\u001b[0mdata\u001b[0m\u001b[0;34m,\u001b[0m \u001b[0mvariables\u001b[0m\u001b[0;34m=\u001b[0m\u001b[0mvariables\u001b[0m\u001b[0;34m,\u001b[0m\u001b[0;34m\u001b[0m\u001b[0;34m\u001b[0m\u001b[0m\n\u001b[1;32m    687\u001b[0m         \u001b[0mestimator\u001b[0m\u001b[0;34m=\u001b[0m\u001b[0mestimator\u001b[0m\u001b[0;34m,\u001b[0m \u001b[0mci\u001b[0m\u001b[0;34m=\u001b[0m\u001b[0mci\u001b[0m\u001b[0;34m,\u001b[0m \u001b[0mn_boot\u001b[0m\u001b[0;34m=\u001b[0m\u001b[0mn_boot\u001b[0m\u001b[0;34m,\u001b[0m \u001b[0mseed\u001b[0m\u001b[0;34m=\u001b[0m\u001b[0mseed\u001b[0m\u001b[0;34m,\u001b[0m\u001b[0;34m\u001b[0m\u001b[0;34m\u001b[0m\u001b[0m\n\u001b[0;32m--> 688\u001b[0;31m         \u001b[0msort\u001b[0m\u001b[0;34m=\u001b[0m\u001b[0msort\u001b[0m\u001b[0;34m,\u001b[0m \u001b[0merr_style\u001b[0m\u001b[0;34m=\u001b[0m\u001b[0merr_style\u001b[0m\u001b[0;34m,\u001b[0m \u001b[0merr_kws\u001b[0m\u001b[0;34m=\u001b[0m\u001b[0merr_kws\u001b[0m\u001b[0;34m,\u001b[0m \u001b[0mlegend\u001b[0m\u001b[0;34m=\u001b[0m\u001b[0mlegend\u001b[0m\u001b[0;34m,\u001b[0m\u001b[0;34m\u001b[0m\u001b[0;34m\u001b[0m\u001b[0m\n\u001b[0m\u001b[1;32m    689\u001b[0m     )\n\u001b[1;32m    690\u001b[0m \u001b[0;34m\u001b[0m\u001b[0m\n",
            "\u001b[0;32m/usr/local/lib/python3.7/dist-packages/seaborn/relational.py\u001b[0m in \u001b[0;36m__init__\u001b[0;34m(self, data, variables, estimator, ci, n_boot, seed, sort, err_style, err_kws, legend)\u001b[0m\n\u001b[1;32m    365\u001b[0m         )\n\u001b[1;32m    366\u001b[0m \u001b[0;34m\u001b[0m\u001b[0m\n\u001b[0;32m--> 367\u001b[0;31m         \u001b[0msuper\u001b[0m\u001b[0;34m(\u001b[0m\u001b[0;34m)\u001b[0m\u001b[0;34m.\u001b[0m\u001b[0m__init__\u001b[0m\u001b[0;34m(\u001b[0m\u001b[0mdata\u001b[0m\u001b[0;34m=\u001b[0m\u001b[0mdata\u001b[0m\u001b[0;34m,\u001b[0m \u001b[0mvariables\u001b[0m\u001b[0;34m=\u001b[0m\u001b[0mvariables\u001b[0m\u001b[0;34m)\u001b[0m\u001b[0;34m\u001b[0m\u001b[0;34m\u001b[0m\u001b[0m\n\u001b[0m\u001b[1;32m    368\u001b[0m \u001b[0;34m\u001b[0m\u001b[0m\n\u001b[1;32m    369\u001b[0m         \u001b[0mself\u001b[0m\u001b[0;34m.\u001b[0m\u001b[0mestimator\u001b[0m \u001b[0;34m=\u001b[0m \u001b[0mestimator\u001b[0m\u001b[0;34m\u001b[0m\u001b[0;34m\u001b[0m\u001b[0m\n",
            "\u001b[0;32m/usr/local/lib/python3.7/dist-packages/seaborn/_core.py\u001b[0m in \u001b[0;36m__init__\u001b[0;34m(self, data, variables)\u001b[0m\n\u001b[1;32m    602\u001b[0m     \u001b[0;32mdef\u001b[0m \u001b[0m__init__\u001b[0m\u001b[0;34m(\u001b[0m\u001b[0mself\u001b[0m\u001b[0;34m,\u001b[0m \u001b[0mdata\u001b[0m\u001b[0;34m=\u001b[0m\u001b[0;32mNone\u001b[0m\u001b[0;34m,\u001b[0m \u001b[0mvariables\u001b[0m\u001b[0;34m=\u001b[0m\u001b[0;34m{\u001b[0m\u001b[0;34m}\u001b[0m\u001b[0;34m)\u001b[0m\u001b[0;34m:\u001b[0m\u001b[0;34m\u001b[0m\u001b[0;34m\u001b[0m\u001b[0m\n\u001b[1;32m    603\u001b[0m \u001b[0;34m\u001b[0m\u001b[0m\n\u001b[0;32m--> 604\u001b[0;31m         \u001b[0mself\u001b[0m\u001b[0;34m.\u001b[0m\u001b[0massign_variables\u001b[0m\u001b[0;34m(\u001b[0m\u001b[0mdata\u001b[0m\u001b[0;34m,\u001b[0m \u001b[0mvariables\u001b[0m\u001b[0;34m)\u001b[0m\u001b[0;34m\u001b[0m\u001b[0;34m\u001b[0m\u001b[0m\n\u001b[0m\u001b[1;32m    605\u001b[0m \u001b[0;34m\u001b[0m\u001b[0m\n\u001b[1;32m    606\u001b[0m         \u001b[0;32mfor\u001b[0m \u001b[0mvar\u001b[0m\u001b[0;34m,\u001b[0m \u001b[0mcls\u001b[0m \u001b[0;32min\u001b[0m \u001b[0mself\u001b[0m\u001b[0;34m.\u001b[0m\u001b[0m_semantic_mappings\u001b[0m\u001b[0;34m.\u001b[0m\u001b[0mitems\u001b[0m\u001b[0;34m(\u001b[0m\u001b[0;34m)\u001b[0m\u001b[0;34m:\u001b[0m\u001b[0;34m\u001b[0m\u001b[0;34m\u001b[0m\u001b[0m\n",
            "\u001b[0;32m/usr/local/lib/python3.7/dist-packages/seaborn/_core.py\u001b[0m in \u001b[0;36massign_variables\u001b[0;34m(self, data, variables)\u001b[0m\n\u001b[1;32m    666\u001b[0m             \u001b[0mself\u001b[0m\u001b[0;34m.\u001b[0m\u001b[0minput_format\u001b[0m \u001b[0;34m=\u001b[0m \u001b[0;34m\"long\"\u001b[0m\u001b[0;34m\u001b[0m\u001b[0;34m\u001b[0m\u001b[0m\n\u001b[1;32m    667\u001b[0m             plot_data, variables = self._assign_variables_longform(\n\u001b[0;32m--> 668\u001b[0;31m                 \u001b[0mdata\u001b[0m\u001b[0;34m,\u001b[0m \u001b[0;34m**\u001b[0m\u001b[0mvariables\u001b[0m\u001b[0;34m,\u001b[0m\u001b[0;34m\u001b[0m\u001b[0;34m\u001b[0m\u001b[0m\n\u001b[0m\u001b[1;32m    669\u001b[0m             )\n\u001b[1;32m    670\u001b[0m \u001b[0;34m\u001b[0m\u001b[0m\n",
            "\u001b[0;32m/usr/local/lib/python3.7/dist-packages/seaborn/_core.py\u001b[0m in \u001b[0;36m_assign_variables_longform\u001b[0;34m(self, data, **kwargs)\u001b[0m\n\u001b[1;32m    900\u001b[0m \u001b[0;34m\u001b[0m\u001b[0m\n\u001b[1;32m    901\u001b[0m                 \u001b[0merr\u001b[0m \u001b[0;34m=\u001b[0m \u001b[0;34mf\"Could not interpret value `{val}` for parameter `{key}`\"\u001b[0m\u001b[0;34m\u001b[0m\u001b[0;34m\u001b[0m\u001b[0m\n\u001b[0;32m--> 902\u001b[0;31m                 \u001b[0;32mraise\u001b[0m \u001b[0mValueError\u001b[0m\u001b[0;34m(\u001b[0m\u001b[0merr\u001b[0m\u001b[0;34m)\u001b[0m\u001b[0;34m\u001b[0m\u001b[0;34m\u001b[0m\u001b[0m\n\u001b[0m\u001b[1;32m    903\u001b[0m \u001b[0;34m\u001b[0m\u001b[0m\n\u001b[1;32m    904\u001b[0m             \u001b[0;32melse\u001b[0m\u001b[0;34m:\u001b[0m\u001b[0;34m\u001b[0m\u001b[0;34m\u001b[0m\u001b[0m\n",
            "\u001b[0;31mValueError\u001b[0m: Could not interpret value `avg_daily_mean_month` for parameter `y`"
          ]
        }
      ]
    },
    {
      "cell_type": "code",
      "metadata": {
        "id": "qKUlhtSoWfW4"
      },
      "source": [
        "def plot_city(city = 'Sacramento', duration='W'):\n",
        "  \"\"\"\n",
        "  A simple plotting function that takes a city and a duration and displays a graph\n",
        "  of the average of the mean temp, max temp, and min temp over that time span\n",
        "\n",
        "  Parameters\n",
        "  ----------\n",
        "    City : str\n",
        "    duration: str (\"D\", \"W\", \"M\", \"Y\")\n",
        "\n",
        "  Returns\n",
        "  -------\n",
        "    Graph: matplot plot\n",
        "  \"\"\"\n",
        "\n",
        "  cols = ['mean_temp', 'max_temp', 'min_temp']\n",
        "\n",
        "  df_ = df[df['city'] == city]\n",
        "\n",
        "  return df_[cols].resample(duration).mean().plot(figsize=(24,5), grid=True, legend=True);"
      ],
      "execution_count": 113,
      "outputs": []
    },
    {
      "cell_type": "code",
      "metadata": {
        "id": "IgfS-PmMYO0z"
      },
      "source": [
        "# showing that it works\n",
        "\n",
        "plot_city()"
      ],
      "execution_count": null,
      "outputs": []
    },
    {
      "cell_type": "code",
      "metadata": {
        "id": "T4pfkzNQSxhR"
      },
      "source": [
        "def estimate_pop_(date = '2020-05-01', temp = 25):\n",
        "  \"\"\"\n",
        "  Takes a date and a temperature and tells you how many residents in the \n",
        "  dataset experienced temperatures above the entered value on that date\n",
        "\n",
        "  Parameters\n",
        "  ----------\n",
        "    date: datetime\n",
        "    temp: int\n",
        "\n",
        "  Returns\n",
        "  -------\n",
        "    total population: float\n",
        "  \"\"\"\n",
        "\n",
        "  df_ = df[(df.index == date) & (df['max_temp'] >= temp)]\n",
        "  return df_.population.sum()\n"
      ],
      "execution_count": 82,
      "outputs": []
    }
  ]
}